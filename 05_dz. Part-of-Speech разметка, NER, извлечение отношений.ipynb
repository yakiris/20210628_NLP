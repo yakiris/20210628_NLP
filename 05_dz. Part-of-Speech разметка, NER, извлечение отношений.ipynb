{
 "cells": [
  {
   "cell_type": "markdown",
   "id": "237a2a60",
   "metadata": {},
   "source": [
    "# Тема: Part-of-Speech разметка, NER, извлечение отношений"
   ]
  },
  {
   "cell_type": "markdown",
   "id": "7c962db0",
   "metadata": {},
   "source": [
    "**Задание 1.** Написать теггер на данных с русским языком"
   ]
  },
  {
   "cell_type": "code",
   "execution_count": 1,
   "id": "937568ab",
   "metadata": {},
   "outputs": [],
   "source": [
    "import pandas as pd\n",
    "import re\n",
    "import string\n",
    "\n",
    "import pyconll\n",
    "\n",
    "import nltk\n",
    "from nltk.tag import DefaultTagger, UnigramTagger, BigramTagger, TrigramTagger\n",
    "\n",
    "from sklearn.preprocessing import LabelEncoder\n",
    "from sklearn.feature_extraction.text import CountVectorizer, HashingVectorizer, TfidfVectorizer\n",
    "from sklearn.linear_model import LogisticRegression\n",
    "from sklearn.metrics import accuracy_score\n",
    "\n",
    "import warnings\n",
    "warnings.filterwarnings(\"ignore\")"
   ]
  },
  {
   "cell_type": "code",
   "execution_count": 2,
   "id": "e123144e",
   "metadata": {},
   "outputs": [],
   "source": [
    "full_train = pyconll.load_from_file('data/ru_syntagrus-ud-train.conllu')\n",
    "full_test = pyconll.load_from_file('data/ru_syntagrus-ud-dev.conllu')\n",
    "stata = pd.DataFrame(columns=['accurasy'])"
   ]
  },
  {
   "cell_type": "code",
   "execution_count": 3,
   "id": "9875a45d",
   "metadata": {},
   "outputs": [],
   "source": [
    "fdata_train = []\n",
    "for sent in full_train[:]:\n",
    "    fdata_train.append([(token.form, token.upos) for token in sent])\n",
    "    \n",
    "fdata_test = []\n",
    "for sent in full_test[:]:\n",
    "    fdata_test.append([(token.form, token.upos) for token in sent])\n",
    "    \n",
    "fdata_sent_test = []\n",
    "for sent in full_test[:]:\n",
    "    fdata_sent_test.append([token.form for token in sent])"
   ]
  },
  {
   "cell_type": "markdown",
   "id": "4f30890c",
   "metadata": {},
   "source": [
    "**1. проверить UnigramTagger, BigramTagger, TrigramTagger и их комбинации**"
   ]
  },
  {
   "cell_type": "code",
   "execution_count": 4,
   "id": "66341d03",
   "metadata": {},
   "outputs": [],
   "source": [
    "taggers = [UnigramTagger, BigramTagger, TrigramTagger]\n",
    "\n",
    "for tag in taggers:\n",
    "    tagger = tag(fdata_train)\n",
    "    name_tag = ''.join([ch for ch in list(re.split('\\.', str(tag))[-1] ) if ch not in string.punctuation])\n",
    "    stata.loc[name_tag, 'accurasy'] = tagger.evaluate(fdata_test)"
   ]
  },
  {
   "cell_type": "code",
   "execution_count": 5,
   "id": "4b17aecb",
   "metadata": {},
   "outputs": [],
   "source": [
    "def backoff_tagger(train_sents, tagger_classes, backoff=None):\n",
    "    for cls in tagger_classes:\n",
    "        backoff = cls(train_sents, backoff=backoff)\n",
    "    return backoff\n",
    "\n",
    "backoff = DefaultTagger('NOUN') \n",
    "tag = backoff_tagger(fdata_train,  \n",
    "                     taggers,  \n",
    "                     backoff = backoff) \n",
    "stata.loc['BackoffTagger', 'accurasy'] = tag.evaluate(fdata_test)"
   ]
  },
  {
   "cell_type": "markdown",
   "id": "cf6119a4",
   "metadata": {},
   "source": [
    "**2. написать свой теггер как на занятии, попробовать разные векторайзеры, добавить знание не только букв но и слов**"
   ]
  },
  {
   "cell_type": "code",
   "execution_count": 6,
   "id": "cad5a615",
   "metadata": {},
   "outputs": [
    {
     "data": {
      "text/plain": [
       "array(['ADJ', 'ADP', 'ADV', 'AUX', 'CCONJ', 'DET', 'INTJ', 'NOUN',\n",
       "       'NO_TAG', 'NUM', 'PART', 'PRON', 'PROPN', 'PUNCT', 'SCONJ', 'SYM',\n",
       "       'VERB', 'X'], dtype='<U6')"
      ]
     },
     "execution_count": 6,
     "metadata": {},
     "output_type": "execute_result"
    }
   ],
   "source": [
    "train_tok = []\n",
    "train_label = []\n",
    "for sent in fdata_train[:]:\n",
    "    for tok in sent:\n",
    "        train_tok.append(tok[0])\n",
    "        train_label.append('NO_TAG' if tok[1] is None else tok[1])\n",
    "        \n",
    "test_tok = []\n",
    "test_label = []\n",
    "for sent in fdata_test[:]:\n",
    "    for tok in sent:\n",
    "        test_tok.append(tok[0])\n",
    "        test_label.append('NO_TAG' if tok[1] is None else tok[1])\n",
    "        \n",
    "le = LabelEncoder()\n",
    "train_enc_labels = le.fit_transform(train_label)\n",
    "test_enc_labels = le.transform(test_label)\n",
    "le.classes_"
   ]
  },
  {
   "cell_type": "code",
   "execution_count": 7,
   "id": "c9e83add",
   "metadata": {},
   "outputs": [],
   "source": [
    "vectorizers = [CountVectorizer, HashingVectorizer, TfidfVectorizer]\n",
    "\n",
    "for vect in vectorizers:\n",
    "\n",
    "    vectorizer = vect(ngram_range=(1, 5), analyzer='char')\n",
    "    X_train = vectorizer.fit_transform(train_tok)\n",
    "    X_test = vectorizer.transform(test_tok)\n",
    "\n",
    "    lr = LogisticRegression(random_state=0)\n",
    "    lr.fit(X_train, train_enc_labels)\n",
    "\n",
    "    pred = lr.predict(X_test)\n",
    "    name_vect = ''.join([ch for ch in list(re.split('\\.', str(vect))[-1] ) if ch not in string.punctuation])\n",
    "    stata.loc[name_vect, 'accurasy'] = accuracy_score(test_enc_labels, pred)"
   ]
  },
  {
   "cell_type": "markdown",
   "id": "6ca36ded",
   "metadata": {},
   "source": [
    "**3.** сравнить все реализованные методы сделать выводы"
   ]
  },
  {
   "cell_type": "code",
   "execution_count": 8,
   "id": "6b208906",
   "metadata": {},
   "outputs": [
    {
     "data": {
      "text/html": [
       "<div>\n",
       "<style scoped>\n",
       "    .dataframe tbody tr th:only-of-type {\n",
       "        vertical-align: middle;\n",
       "    }\n",
       "\n",
       "    .dataframe tbody tr th {\n",
       "        vertical-align: top;\n",
       "    }\n",
       "\n",
       "    .dataframe thead th {\n",
       "        text-align: right;\n",
       "    }\n",
       "</style>\n",
       "<table border=\"1\" class=\"dataframe\">\n",
       "  <thead>\n",
       "    <tr style=\"text-align: right;\">\n",
       "      <th></th>\n",
       "      <th>accurasy</th>\n",
       "    </tr>\n",
       "  </thead>\n",
       "  <tbody>\n",
       "    <tr>\n",
       "      <th>UnigramTagger</th>\n",
       "      <td>0.877254</td>\n",
       "    </tr>\n",
       "    <tr>\n",
       "      <th>BigramTagger</th>\n",
       "      <td>0.696306</td>\n",
       "    </tr>\n",
       "    <tr>\n",
       "      <th>TrigramTagger</th>\n",
       "      <td>0.248087</td>\n",
       "    </tr>\n",
       "    <tr>\n",
       "      <th>BackoffTagger</th>\n",
       "      <td>0.911999</td>\n",
       "    </tr>\n",
       "    <tr>\n",
       "      <th>CountVectorizer</th>\n",
       "      <td>0.94998</td>\n",
       "    </tr>\n",
       "    <tr>\n",
       "      <th>HashingVectorizer</th>\n",
       "      <td>0.930231</td>\n",
       "    </tr>\n",
       "    <tr>\n",
       "      <th>TfidfVectorizer</th>\n",
       "      <td>0.938227</td>\n",
       "    </tr>\n",
       "  </tbody>\n",
       "</table>\n",
       "</div>"
      ],
      "text/plain": [
       "                   accurasy\n",
       "UnigramTagger      0.877254\n",
       "BigramTagger       0.696306\n",
       "TrigramTagger      0.248087\n",
       "BackoffTagger      0.911999\n",
       "CountVectorizer     0.94998\n",
       "HashingVectorizer  0.930231\n",
       "TfidfVectorizer    0.938227"
      ]
     },
     "execution_count": 8,
     "metadata": {},
     "output_type": "execute_result"
    }
   ],
   "source": [
    "stata"
   ]
  },
  {
   "cell_type": "code",
   "execution_count": null,
   "id": "fef0711b",
   "metadata": {},
   "outputs": [],
   "source": []
  }
 ],
 "metadata": {
  "kernelspec": {
   "display_name": "Python 3",
   "language": "python",
   "name": "python3"
  },
  "language_info": {
   "codemirror_mode": {
    "name": "ipython",
    "version": 3
   },
   "file_extension": ".py",
   "mimetype": "text/x-python",
   "name": "python",
   "nbconvert_exporter": "python",
   "pygments_lexer": "ipython3",
   "version": "3.8.5"
  }
 },
 "nbformat": 4,
 "nbformat_minor": 5
}
